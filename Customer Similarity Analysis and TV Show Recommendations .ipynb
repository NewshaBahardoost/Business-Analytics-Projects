{
  "nbformat": 4,
  "nbformat_minor": 0,
  "metadata": {
    "colab": {
      "provenance": []
    },
    "kernelspec": {
      "name": "python3",
      "display_name": "Python 3"
    },
    "language_info": {
      "name": "python"
    }
  },
  "cells": [
    {
      "cell_type": "markdown",
      "source": [
        "ID: V01053626\n",
        "\n",
        "Name: Newsha Bahardoost"
      ],
      "metadata": {
        "id": "Ef3vhliEXpXW"
      }
    },
    {
      "cell_type": "markdown",
      "source": [
        "Task 2 comment\n",
        "\n",
        "\\documentclass{article} \\usepackage{amsmath}\n",
        "\n",
        "\\begin{document}\n",
        "\n",
        "\\section*{Task 2: Derivation of ( \\Gamma ) for User-User and Item-Item Collaborative Filtering}\n",
        "\n",
        "Collaborative filtering works by computing similarity scores between users or items and then using these scores to generate recommendations.\n",
        "\n",
        "\\subsection*{User-User Collaborative Filtering}\n",
        "\n",
        "The cosine similarity between users is given by:\n",
        "\n",
        "[ S_{\\text{user}} = P^{-\\frac{1}{2}} R R^\\top P^{-\\frac{1}{2}} ]\n",
        "\n",
        "where:\n",
        "\n",
        "\\begin{itemize}\n",
        "    \\item \\( R \\) is the user-item rating matrix.\n",
        "    \\item \\( P \\) is the diagonal matrix of user degrees (i.e., the number of items each user has interacted with).\n",
        "    \\item \\( P^{-\\frac{1}{2}} \\) is the inverse square root of \\( P \\), which normalizes the similarities.\n",
        "\\end{itemize}\n",
        "\n",
        "The recommendation matrix for user-user filtering is:\n",
        "\n",
        "[ \\Gamma_{\\text{user}} = R S_{\\text{user}} = R P^{-\\frac{1}{2}} R R^\\top P^{-\\frac{1}{2}} ]\n",
        "\n",
        "\\subsection*{Item-Item Collaborative Filtering}\n",
        "\n",
        "Similarly, for item-item filtering, the cosine similarity between items is given by:\n",
        "\n",
        "[ S_{\\text{item}} = Q^{-\\frac{1}{2}} R^\\top R Q^{-\\frac{1}{2}} ]\n",
        "\n",
        "where:\n",
        "\n",
        "\\begin{itemize}\n",
        "    \\item \\( Q \\) is the diagonal matrix of item degrees (i.e., the number of users who interacted with each item).\n",
        "    \\item \\( Q^{-\\frac{1}{2}} \\) is the inverse square root of \\( Q \\).\n",
        "\\end{itemize}\n",
        "\n",
        "The recommendation matrix for item-item filtering is:\n",
        "\n",
        "[ \\Gamma_{\\text{item}} = S_{\\text{item}} R = Q^{-\\frac{1}{2}} R^\\top R Q^{-\\frac{1}{2}} R ]\n",
        "\n",
        "\\subsection*{Explanation of the Equations}\n",
        "\n",
        "\\begin{itemize}\n",
        "    \\item \\textbf{User-user filtering:} We find similar users and recommend items based on what similar users have interacted with.\n",
        "    \\item \\textbf{Item-item filtering:} We find similar items and recommend them based on other similar items that the user has engaged with.\n",
        "\\end{itemize}\n",
        "\n",
        "Thus, the final formulas for ( \\Gamma ) are:\n",
        "\n",
        "[ \\Gamma_{\\text{user}} = R P^{-\\frac{1}{2}} R R^\\top P^{-\\frac{1}{2}} ]\n",
        "\n",
        "[ \\Gamma_{\\text{item}} = Q^{-\\frac{1}{2}} R^\\top R Q^{-\\frac{1}{2}} R ]\n",
        "\n",
        "\\end{document}"
      ],
      "metadata": {
        "id": "xzwzqBjZXtj3"
      }
    },
    {
      "cell_type": "code",
      "source": [
        "import numpy as np\n",
        "\n",
        "# Task 1: Compute matrices P and Q\n",
        "# Read the data/p2-user-shows.txt file\n",
        "with open('/content/p2-user-shows.txt', 'r') as f:\n",
        "    R = np.array([[int(x) for x in line.strip().split()] for line in f])\n",
        "\n",
        "# Compute user degrees (P) and item degrees (Q)\n",
        "P = R.sum(axis=1)  # Sum each row (users)\n",
        "Q = R.sum(axis=0)  # Sum each column (items)\n",
        "\n",
        "# Helper function to format matrices\n",
        "def format_matrix(mat, name):\n",
        "    \"\"\"Helper function for consistent matrix formatting\"\"\"\n",
        "    matrix_str = np.array2string(\n",
        "        np.diag(mat[:5]),\n",
        "        formatter={'int': lambda x: f\"{x}.\"},\n",
        "        separator='  ',\n",
        "        threshold=np.inf,\n",
        "        max_line_width=np.inf\n",
        "    ).replace('\\n', ' ')\n",
        "    return f\"{name} = {matrix_str}\"\n",
        "\n",
        "# Print matrices P and Q in the correct format\n",
        "print(format_matrix(P, \"P\"))\n",
        "print(format_matrix(Q, \"Q\"))"
      ],
      "metadata": {
        "colab": {
          "base_uri": "https://localhost:8080/"
        },
        "id": "mESBFUWe9Knk",
        "outputId": "3a966ff1-8827-4741-ed02-3e26f9a8a379"
      },
      "execution_count": 1,
      "outputs": [
        {
          "output_type": "stream",
          "name": "stdout",
          "text": [
            "P = [[35.  0.  0.  0.  0.]  [0.  26.  0.  0.  0.]  [0.  0.  44.  0.  0.]  [0.  0.  0.  17.  0.]  [0.  0.  0.  0.  21.]]\n",
            "Q = [[1089.  0.  0.  0.  0.]  [0.  3350.  0.  0.  0.]  [0.  0.  3187.  0.  0.]  [0.  0.  0.  1212.  0.]  [0.  0.  0.  0.  1438.]]\n"
          ]
        }
      ]
    },
    {
      "cell_type": "code",
      "source": [
        "# ========== TASK 3 ========== #\n",
        "# Load show names\n",
        "with open('/content/p2-shows.txt', 'r') as f:\n",
        "    shows = [line.strip() for line in f]\n",
        "\n",
        "# Compute user-user similarity matrix (Gamma_user)\n",
        "P_sqrt_inv = np.diag(1.0 / np.sqrt(P + 1e-10))  # Avoid division by zero\n",
        "Gamma_user = P_sqrt_inv @ R @ R.T @ P_sqrt_inv\n",
        "\n",
        "# Identify the top 5 recommended TV shows for user Alex (user 499)\n",
        "user_id = 499  # Alex's user index\n",
        "user_scores = Gamma_user[user_id, :] @ R  # Compute recommendation scores\n",
        "\n",
        "# Get top 5 show indices\n",
        "top_5_indices = np.argsort(-user_scores)[:5]\n",
        "\n",
        "print(\"Top 5 TV shows for Alex (user-user):\")\n",
        "for idx in top_5_indices:\n",
        "    print(f\"- {shows[idx]}\")"
      ],
      "metadata": {
        "colab": {
          "base_uri": "https://localhost:8080/"
        },
        "id": "amUgt_sO9Olt",
        "outputId": "9688cf4b-8044-4371-cdb5-f7934b996d4e"
      },
      "execution_count": 7,
      "outputs": [
        {
          "output_type": "stream",
          "name": "stdout",
          "text": [
            "Top 5 TV shows for Alex (user-user):\n",
            "- \"FOX 28 News at 10pm\"\n",
            "- \"10TV News HD at 11pm\"\n",
            "- \"Family Guy\"\n",
            "- \"10TV Eyewitness News at 5:00\"\n",
            "- \"10TV Eyewitness News at 6:00\"\n"
          ]
        }
      ]
    },
    {
      "cell_type": "code",
      "source": [
        "# ========== TASK 4 ========== #\n",
        "# Compute item-item similarity matrix (S_item)\n",
        "RTR = R.T @ R  # Compute item co-occurrence matrix\n",
        "\n",
        "# Ensure Q values are nonzero to avoid division by zero\n",
        "Q_safe = Q.copy()\n",
        "Q_safe[Q_safe == 0] = 1  # Avoid division by zero\n",
        "Q_inv_sqrt = 1 / np.sqrt(Q_safe)\n",
        "Q_inv_sqrt_matrix = np.diag(Q_inv_sqrt)\n",
        "\n",
        "S_item = Q_inv_sqrt_matrix @ RTR @ Q_inv_sqrt_matrix\n",
        "\n",
        "# Define Alex's index (User 499)\n",
        "alex_idx = 499\n",
        "\n",
        "# Identify Alex's watched shows (all watched items)\n",
        "alex_watched = np.where(R[alex_idx, :] == 1)[0]\n",
        "\n",
        "# Compute recommendation scores for the first 100 shows\n",
        "scores_item = S_item[alex_watched].sum(axis=0)  # Compute recommendation scores\n",
        "\n",
        "# Get top 5 recommended shows for item-item filtering\n",
        "top5_item_indices = np.argsort(-scores_item)[:5]\n",
        "\n",
        "print(\"Top 5 TV shows for Alex (item-item):\")\n",
        "for idx in top5_item_indices:\n",
        "    print(f\"- {shows[idx]}\")\n"
      ],
      "metadata": {
        "colab": {
          "base_uri": "https://localhost:8080/"
        },
        "id": "VGzn0heR9SHO",
        "outputId": "63ad6b5a-6a97-4f7d-f6c1-b044473790db"
      },
      "execution_count": 9,
      "outputs": [
        {
          "output_type": "stream",
          "name": "stdout",
          "text": [
            "Top 5 TV shows for Alex (item-item):\n",
            "- \"10TV Eyewitness News at 5:00\"\n",
            "- \"FOX 28 News at 10pm\"\n",
            "- \"10TV Eyewitness News at 6:00\"\n",
            "- \"10TV News HD at 11pm\"\n",
            "- \"Family Guy\"\n"
          ]
        }
      ]
    }
  ]
}